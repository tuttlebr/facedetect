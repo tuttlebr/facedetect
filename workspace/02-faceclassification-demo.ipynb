{
 "cells": [
  {
   "cell_type": "code",
   "execution_count": null,
   "id": "9890f5d2-c9a3-4af7-b0f8-0707e08e8e53",
   "metadata": {},
   "outputs": [],
   "source": [
    "import json\n",
    "from concurrent.futures import ThreadPoolExecutor, as_completed\n",
    "from tqdm.auto import tqdm\n",
    "import random\n",
    "import ipyplot\n",
    "import math\n",
    "\n",
    "from utils import *\n",
    "from bbox import *\n",
    "\n",
    "load_dotenv()\n",
    "Migrator().run()"
   ]
  },
  {
   "cell_type": "code",
   "execution_count": null,
   "id": "186c7fec-6a6e-40b3-8d6d-2ebf7d46ecfb",
   "metadata": {},
   "outputs": [],
   "source": [
    "query = \"wedding*moose\"\n",
    "models = Model.find(Model.filename % query).all()\n",
    "models = [model for model in models if model.faces]\n",
    "models = [model for model in models if len(model.faces) == 5]\n",
    "\n",
    "print(len(models))\n",
    "\n",
    "sample_model = random.sample(models, 1)[0]\n",
    "model_crop_and_rotate_and_resize_clips = crop_and_rotate_and_resize_clip(sample_model)\n",
    "ipyplot.plot_images(model_crop_and_rotate_and_resize_clips)\n",
    "sample_model"
   ]
  },
  {
   "cell_type": "code",
   "execution_count": null,
   "id": "c2ed402c-54dd-4683-8e87-8cd2eb659093",
   "metadata": {},
   "outputs": [],
   "source": [
    "def new_rotated_bbox(model):\n",
    "    image = Image.open(model.filename)\n",
    "    w, h = image.size\n",
    "    cx, cy = w // 2, h // 2\n",
    "\n",
    "    rotated_bboxes = []\n",
    "\n",
    "    for i, face in enumerate(model.faces):\n",
    "        bboxes = np.array(\n",
    "            [(face.bbox.x1, face.bbox.y1, face.bbox.x2, face.bbox.y2)], dtype=\"float\"\n",
    "        )\n",
    "        corners = get_corners(bboxes)\n",
    "        corners = np.hstack((corners, bboxes[:, 4:]))\n",
    "        img_rotated = image.rotate(face.rotation, expand=1)\n",
    "\n",
    "        corners[:, :8] = rotate_box(corners[:, :8], face.rotation, cx, cy, h, w)\n",
    "        new_bbox = get_enclosing_box(corners)\n",
    "        scale_factor_x = img_rotated.size[0] / w\n",
    "        scale_factor_y = img_rotated.size[1] / h\n",
    "\n",
    "        img_rotated = img_rotated.resize((w, h))\n",
    "\n",
    "        new_bbox[:, :4] /= [\n",
    "            scale_factor_x,\n",
    "            scale_factor_y,\n",
    "            scale_factor_x,\n",
    "            scale_factor_y,\n",
    "        ]\n",
    "        bboxes = new_bbox\n",
    "        bboxes = clip_box(bboxes, [0, 0, w, h], 0.25).squeeze()\n",
    "\n",
    "        model.faces[i].bbox.x1 = int(round(bboxes[0], 0))\n",
    "        model.faces[i].bbox.y1 = int(round(bboxes[1], 0))\n",
    "        model.faces[i].bbox.x2 = int(round(bboxes[2], 0))\n",
    "        model.faces[i].bbox.y2 = int(round(bboxes[3], 0))\n",
    "        model.save()\n",
    "\n",
    "    return model"
   ]
  },
  {
   "cell_type": "code",
   "execution_count": null,
   "id": "bfdebbc6-f793-43c9-9598-7b54a38e9012",
   "metadata": {},
   "outputs": [],
   "source": [
    "modified_faces = crop_and_rotate_and_resize_clip(new_rotated_bbox(sample_model))\n",
    "\n",
    "ipyplot.plot_images(modified_faces)"
   ]
  },
  {
   "cell_type": "code",
   "execution_count": null,
   "id": "416a10de-99b8-4e97-a7c0-e9f68908afe2",
   "metadata": {},
   "outputs": [],
   "source": []
  }
 ],
 "metadata": {
  "kernelspec": {
   "display_name": "Python 3 (ipykernel)",
   "language": "python",
   "name": "python3"
  },
  "language_info": {
   "codemirror_mode": {
    "name": "ipython",
    "version": 3
   },
   "file_extension": ".py",
   "mimetype": "text/x-python",
   "name": "python",
   "nbconvert_exporter": "python",
   "pygments_lexer": "ipython3",
   "version": "3.8.10"
  }
 },
 "nbformat": 4,
 "nbformat_minor": 5
}

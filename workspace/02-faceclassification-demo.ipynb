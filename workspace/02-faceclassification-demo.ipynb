{
 "cells": [
  {
   "cell_type": "code",
   "execution_count": null,
   "id": "9890f5d2-c9a3-4af7-b0f8-0707e08e8e53",
   "metadata": {},
   "outputs": [],
   "source": [
    "import warnings\n",
    "\n",
    "warnings.filterwarnings(\"ignore\")\n",
    "warnings.simplefilter(\"ignore\")\n",
    "\n",
    "import json\n",
    "from concurrent.futures import ThreadPoolExecutor, as_completed\n",
    "from tqdm.auto import tqdm\n",
    "import random\n",
    "import ipyplot\n",
    "import math\n",
    "\n",
    "from utils import *\n",
    "\n",
    "load_dotenv()\n",
    "Migrator().run()"
   ]
  },
  {
   "cell_type": "code",
   "execution_count": null,
   "id": "186c7fec-6a6e-40b3-8d6d-2ebf7d46ecfb",
   "metadata": {},
   "outputs": [],
   "source": [
    "query = \"volume1\"\n",
    "models = Model.find(Model.filename % query).all()"
   ]
  },
  {
   "cell_type": "code",
   "execution_count": null,
   "id": "ad549ee4-93e6-4bba-8b19-64629fe939c0",
   "metadata": {},
   "outputs": [],
   "source": [
    "models = [model for model in models if model.faces]\n",
    "sample_model = random.sample(models, 1)[0]\n",
    "model_crop_and_rotate_and_resize_clips = crop_and_rotate_and_resize_clip(sample_model)\n",
    "ipyplot.plot_images(model_crop_and_rotate_and_resize_clips)"
   ]
  },
  {
   "cell_type": "code",
   "execution_count": null,
   "id": "e039753f-0983-4e93-9424-6cc251282fba",
   "metadata": {},
   "outputs": [],
   "source": [
    "img = Image.open(sample_model.filename)\n",
    "img"
   ]
  },
  {
   "cell_type": "code",
   "execution_count": null,
   "id": "c7e0c3f4-72de-482c-ac65-3ad51eaf6425",
   "metadata": {},
   "outputs": [],
   "source": [
    "crop_clip(sample_model)[0]"
   ]
  }
 ],
 "metadata": {
  "kernelspec": {
   "display_name": "Python 3 (ipykernel)",
   "language": "python",
   "name": "python3"
  },
  "language_info": {
   "codemirror_mode": {
    "name": "ipython",
    "version": 3
   },
   "file_extension": ".py",
   "mimetype": "text/x-python",
   "name": "python",
   "nbconvert_exporter": "python",
   "pygments_lexer": "ipython3",
   "version": "3.8.10"
  }
 },
 "nbformat": 4,
 "nbformat_minor": 5
}

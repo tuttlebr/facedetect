{
 "cells": [
  {
   "cell_type": "code",
   "execution_count": 1,
   "id": "02453dea",
   "metadata": {},
   "outputs": [],
   "source": [
    "import tritonclient.grpc as grpcclient\n",
    "import json\n",
    "from PIL import Image, ImageDraw\n",
    "from pillow_heif import register_heif_opener\n",
    "import numpy as np\n",
    "\n",
    "register_heif_opener()"
   ]
  },
  {
   "cell_type": "code",
   "execution_count": 2,
   "id": "832c73e0",
   "metadata": {},
   "outputs": [],
   "source": [
    "model_name = \"fpenet\"\n",
    "model_version = \"1\"\n",
    "url = \"172.25.0.42:8001\"\n",
    "\n",
    "facedetect_data_filename = \"facedetect_data.json\""
   ]
  },
  {
   "cell_type": "code",
   "execution_count": 26,
   "id": "728c29ba",
   "metadata": {},
   "outputs": [],
   "source": [
    "def parse_model_grpc(model_metadata, model_config):\n",
    "    \"\"\"\n",
    "    Check the configuration of a model to make sure it meets the\n",
    "    requirements for an image classification network (as expected by\n",
    "    this client)\n",
    "    \"\"\"\n",
    "    if len(model_metadata.inputs) != 1:\n",
    "        raise Exception(\"expecting 1 input, got {}\".format(len(model_metadata.inputs)))\n",
    "\n",
    "    if len(model_config.input) != 1:\n",
    "        raise Exception(\n",
    "            \"expecting 1 input in model configuration, got {}\".format(\n",
    "                len(model_config.input)\n",
    "            )\n",
    "        )\n",
    "\n",
    "    input_metadata = model_metadata.inputs\n",
    "    output_metadata = model_metadata.outputs\n",
    "\n",
    "    return (input_metadata, output_metadata, model_config.max_batch_size)\n",
    "\n",
    "\n",
    "def get_face_clip(img, image_wise_bboxes):\n",
    "    image_wise_bboxes = np.array([int(eval(i)) for i in image_wise_bboxes])\n",
    "    image = img.crop((image_wise_bboxes)).resize((80, 80))\n",
    "    f_image = np.expand_dims(np.array(image, dtype=\"float32\"), axis=0)\n",
    "\n",
    "    return image, f_image\n",
    "\n",
    "\n",
    "def submit_to_triton(image_data, input_name, output_names, request_id=None):\n",
    "\n",
    "    inputs = [grpcclient.InferInput(input_name, image_data.shape, \"FP32\")]\n",
    "    inputs[0].set_data_from_numpy(image_data)\n",
    "\n",
    "    outputs = [\n",
    "        grpcclient.InferRequestedOutput(output_name, class_count=0)\n",
    "        for output_name in output_names\n",
    "    ]\n",
    "    return triton_client.infer(model_name, inputs, outputs=outputs)"
   ]
  },
  {
   "cell_type": "code",
   "execution_count": 27,
   "id": "11df0a8b",
   "metadata": {},
   "outputs": [],
   "source": [
    "triton_client = grpcclient.InferenceServerClient(url=url, verbose=False)\n",
    "\n",
    "model_metadata = triton_client.get_model_metadata(\n",
    "    model_name=model_name, model_version=model_version\n",
    ")\n",
    "\n",
    "model_config = triton_client.get_model_config(\n",
    "    model_name=model_name, model_version=model_version\n",
    ").config\n",
    "\n",
    "input_metadata, output_metadata, max_batch_size = parse_model_grpc(\n",
    "    model_metadata, model_config\n",
    ")"
   ]
  },
  {
   "cell_type": "code",
   "execution_count": 28,
   "id": "35f8ad73",
   "metadata": {},
   "outputs": [
    {
     "data": {
      "text/plain": [
       "64"
      ]
     },
     "execution_count": 28,
     "metadata": {},
     "output_type": "execute_result"
    }
   ],
   "source": [
    "max_workers = max_batch_size * model_config.instance_group[0].count"
   ]
  },
  {
   "cell_type": "code",
   "execution_count": 29,
   "id": "5a37b0f8",
   "metadata": {},
   "outputs": [
    {
     "data": {
      "text/plain": [
       "[name: \"input_face_images\"\n",
       "datatype: \"FP32\"\n",
       "shape: -1\n",
       "shape: 1\n",
       "shape: 80\n",
       "shape: 80\n",
       "]"
      ]
     },
     "execution_count": 29,
     "metadata": {},
     "output_type": "execute_result"
    }
   ],
   "source": [
    "input_metadata"
   ]
  },
  {
   "cell_type": "code",
   "execution_count": 30,
   "id": "caba928f",
   "metadata": {},
   "outputs": [
    {
     "data": {
      "text/plain": [
       "[name: \"conv_keypoints_m80\"\n",
       "datatype: \"FP32\"\n",
       "shape: -1\n",
       "shape: 80\n",
       "shape: 80\n",
       "shape: 80\n",
       ", name: \"softargmax\"\n",
       "datatype: \"FP32\"\n",
       "shape: -1\n",
       "shape: 80\n",
       "shape: 2\n",
       ", name: \"softargmax:1\"\n",
       "datatype: \"FP32\"\n",
       "shape: -1\n",
       "shape: 80\n",
       "]"
      ]
     },
     "execution_count": 30,
     "metadata": {},
     "output_type": "execute_result"
    }
   ],
   "source": [
    "output_names = [i.name for i in output_metadata]\n",
    "output_metadata"
   ]
  },
  {
   "cell_type": "code",
   "execution_count": 31,
   "id": "cf733f4e",
   "metadata": {},
   "outputs": [],
   "source": [
    "with open(facedetect_data_filename) as f:\n",
    "    facedetect_data = json.load(f)"
   ]
  },
  {
   "cell_type": "code",
   "execution_count": 32,
   "id": "208a2433",
   "metadata": {},
   "outputs": [],
   "source": [
    "pil_clips = []\n",
    "fpenet_clips = []\n",
    "for items in facedetect_data[:20]:\n",
    "    if items[\"faces\"][0][\"probability\"] != \"0\":\n",
    "        image = Image.open(items[\"filename\"]).convert(\"L\")\n",
    "        for face in items[\"faces\"]:\n",
    "            image_wise_bboxes = tuple(face[\"bbox\"].values())\n",
    "            pil_clip, fpenet_clip = get_face_clip(image, image_wise_bboxes)\n",
    "            pil_clips.append(pil_clip)\n",
    "            fpenet_clips.append(fpenet_clip)"
   ]
  },
  {
   "cell_type": "code",
   "execution_count": 33,
   "id": "7ca83a53",
   "metadata": {},
   "outputs": [],
   "source": [
    "results = submit_to_triton(\n",
    "    np.stack(fpenet_clips), \"input_face_images\", output_names, request_id=None\n",
    ")"
   ]
  },
  {
   "cell_type": "code",
   "execution_count": 34,
   "id": "3b206697",
   "metadata": {},
   "outputs": [
    {
     "data": {
      "text/plain": [
       "(5, 80, 80, 80)"
      ]
     },
     "execution_count": 34,
     "metadata": {},
     "output_type": "execute_result"
    }
   ],
   "source": [
    "results.as_numpy(output_names[0]).shape"
   ]
  },
  {
   "cell_type": "code",
   "execution_count": 35,
   "id": "beee4b7d",
   "metadata": {},
   "outputs": [
    {
     "data": {
      "text/plain": [
       "(5, 80, 2)"
      ]
     },
     "execution_count": 35,
     "metadata": {},
     "output_type": "execute_result"
    }
   ],
   "source": [
    "results.as_numpy(output_names[1]).shape"
   ]
  },
  {
   "cell_type": "code",
   "execution_count": 36,
   "id": "9ff2bada",
   "metadata": {},
   "outputs": [
    {
     "data": {
      "text/plain": [
       "(5, 80)"
      ]
     },
     "execution_count": 36,
     "metadata": {},
     "output_type": "execute_result"
    }
   ],
   "source": [
    "results.as_numpy(output_names[2]).shape"
   ]
  },
  {
   "cell_type": "code",
   "execution_count": 37,
   "id": "081aee55",
   "metadata": {},
   "outputs": [
    {
     "data": {
      "image/png": "[encoded data removed]",
      "text/plain": [
       "<PIL.Image.Image image mode=RGB size=80x80>"
      ]
     },
     "execution_count": 37,
     "metadata": {},
     "output_type": "execute_result"
    }
   ],
   "source": [
    "idx = 4\n",
    "img = pil_clips[4].convert(\"RGB\")\n",
    "for x, y in results.as_numpy(output_names[1])[idx]:\n",
    "    img.putpixel((x, y), (118, 185, 0))\n",
    "img"
   ]
  },
  {
   "cell_type": "code",
   "execution_count": 25,
   "id": "71a067ed",
   "metadata": {},
   "outputs": [
    {
     "data": {
      "text/plain": [
       "(80, 80, 80)"
      ]
     },
     "execution_count": 25,
     "metadata": {},
     "output_type": "execute_result"
    }
   ],
   "source": [
    "results.as_numpy(output_names[0])[idx].shape"
   ]
  },
  {
   "cell_type": "code",
   "execution_count": null,
   "id": "899936e7",
   "metadata": {},
   "outputs": [],
   "source": []
  }
 ],
 "metadata": {
  "kernelspec": {
   "display_name": "Python 3 (ipykernel)",
   "language": "python",
   "name": "python3"
  },
  "language_info": {
   "codemirror_mode": {
    "name": "ipython",
    "version": 3
   },
   "file_extension": ".py",
   "mimetype": "text/x-python",
   "name": "python",
   "nbconvert_exporter": "python",
   "pygments_lexer": "ipython3",
   "version": "3.8.13"
  }
 },
 "nbformat": 4,
 "nbformat_minor": 5
}

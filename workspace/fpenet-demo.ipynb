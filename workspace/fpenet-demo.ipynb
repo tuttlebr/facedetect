{
 "cells": [
  {
   "cell_type": "code",
   "execution_count": null,
   "id": "02453dea",
   "metadata": {},
   "outputs": [],
   "source": [
    "import json\n",
    "from concurrent.futures import ThreadPoolExecutor, as_completed\n",
    "import numpy as np\n",
    "import tritonclient.grpc as grpcclient\n",
    "from tqdm.auto import tqdm\n",
    "from dotenv import load_dotenv\n",
    "import random\n",
    "import ipyplot\n",
    "\n",
    "from utils import *\n",
    "\n",
    "load_dotenv()"
   ]
  },
  {
   "cell_type": "code",
   "execution_count": null,
   "id": "aa7b211c-1840-47c1-8b88-2a9af0b2d805",
   "metadata": {},
   "outputs": [],
   "source": [
    "with open(JSON_DATA_FILE) as f:\n",
    "    facedetect_data = json.load(f)"
   ]
  },
  {
   "cell_type": "code",
   "execution_count": null,
   "id": "11df0a8b",
   "metadata": {},
   "outputs": [],
   "source": [
    "triton_client = grpcclient.InferenceServerClient(url=TRITON_SERVER_URL, verbose=False)\n",
    "\n",
    "model_metadata = triton_client.get_model_metadata(\n",
    "    model_name=FPENET_MODEL_NAME, model_version=MODEL_VERSION\n",
    ")\n",
    "\n",
    "model_config = triton_client.get_model_config(\n",
    "    model_name=FPENET_MODEL_NAME, model_version=MODEL_VERSION\n",
    ").config\n",
    "\n",
    "input_names = [i.name for i in model_config.input]\n",
    "output_names = [i.name for i in model_config.output]"
   ]
  },
  {
   "cell_type": "code",
   "execution_count": null,
   "id": "d1d987a0-477e-4958-88e3-03dc69ffeec5",
   "metadata": {},
   "outputs": [],
   "source": [
    "def render_fpenet_image(clip, points):\n",
    "    img = Image.fromarray(clip.reshape((80, 80)).astype(\"uint8\"), \"L\").convert(\"RGB\")\n",
    "    draw = ImageDraw.Draw(img)\n",
    "    for x, y in points:\n",
    "        draw.point((x, y), fill=\"#76b900\")\n",
    "    return img"
   ]
  },
  {
   "cell_type": "code",
   "execution_count": null,
   "id": "76377fd5-4c77-4ac9-8a13-4eec1122bb40",
   "metadata": {},
   "outputs": [],
   "source": [
    "n = 0\n",
    "max_images = 8\n",
    "show_me_grid = []\n",
    "results = []\n",
    "for json_items in facedetect_data:\n",
    "    if (json_items[\"faces\"][0][\"probability\"] != 0) and (n <= max_images):\n",
    "        try:\n",
    "            results.append(\n",
    "                submit_to_fpenet(\n",
    "                    json_items,\n",
    "                    input_names[0],\n",
    "                    output_names,\n",
    "                    request_id=json_items[\"filename\"],\n",
    "                    timeit=False,\n",
    "                    return_clips=True,\n",
    "                )\n",
    "            )\n",
    "            n += 1\n",
    "        except Exception as e:\n",
    "            print(\"There was an exception: {}\".format(e))\n",
    "\n",
    "\n",
    "for responses, clips in results:\n",
    "    for response, clip in zip(responses, clips):\n",
    "        points = response.squeeze()\n",
    "        img = render_fpenet_image(clip, points)\n",
    "        show_me_grid.append(img)\n",
    "\n",
    "ipyplot.plot_images(\n",
    "    images=show_me_grid, img_width=160, show_url=False, max_images=max_images\n",
    ")"
   ]
  },
  {
   "cell_type": "code",
   "execution_count": null,
   "id": "b59fdfe3-3f42-41e3-88bf-2f97b673a495",
   "metadata": {},
   "outputs": [],
   "source": [
    "# DEBUG\n",
    "# facedetect_data = random.sample(facedetect_data, N_DEBUG)"
   ]
  },
  {
   "cell_type": "code",
   "execution_count": null,
   "id": "f0463a70-177c-4707-b8a8-8871540939fc",
   "metadata": {},
   "outputs": [],
   "source": [
    "pbar = tqdm(\n",
    "    total=len(facedetect_data),\n",
    "    desc=\"Submitting photos to {} at {}\".format(FPENET_MODEL_NAME, TRITON_SERVER_URL),\n",
    ")\n",
    "\n",
    "futures = []\n",
    "results = []\n",
    "\n",
    "with ThreadPoolExecutor() as executor:\n",
    "    for chunk in chunked(facedetect_data, THREAD_CHUNKS):\n",
    "        futures = []\n",
    "        for json_items in chunk:\n",
    "            pbar.update()\n",
    "            if json_items[\"faces\"][0][\"probability\"] != 0:\n",
    "                futures.append(\n",
    "                    executor.submit(\n",
    "                        submit_to_fpenet,\n",
    "                        json_items,\n",
    "                        input_names[0],\n",
    "                        output_names,\n",
    "                        request_id=json_items[\"filename\"],\n",
    "                    )\n",
    "                )\n",
    "\n",
    "        for future in as_completed(futures):\n",
    "            try:\n",
    "                infer_result = future.result()\n",
    "                results.append(infer_result)\n",
    "            except Exception as e:\n",
    "                print(\"There was an exception: {}.\".format(e))"
   ]
  },
  {
   "cell_type": "markdown",
   "id": "77aa9451-a763-4850-acd1-af32737fa006",
   "metadata": {},
   "source": [
    "___"
   ]
  }
 ],
 "metadata": {
  "kernelspec": {
   "display_name": "Python 3 (ipykernel)",
   "language": "python",
   "name": "python3"
  },
  "language_info": {
   "codemirror_mode": {
    "name": "ipython",
    "version": 3
   },
   "file_extension": ".py",
   "mimetype": "text/x-python",
   "name": "python",
   "nbconvert_exporter": "python",
   "pygments_lexer": "ipython3",
   "version": "3.8.10"
  }
 },
 "nbformat": 4,
 "nbformat_minor": 5
}

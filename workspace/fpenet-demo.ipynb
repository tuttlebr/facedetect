{
 "cells": [
  {
   "cell_type": "code",
   "execution_count": null,
   "id": "02453dea",
   "metadata": {},
   "outputs": [],
   "source": [
    "import json\n",
    "from concurrent.futures import ThreadPoolExecutor, as_completed\n",
    "from tqdm.auto import tqdm\n",
    "import random\n",
    "import ipyplot\n",
    "import math\n",
    "\n",
    "from utils import *\n",
    "\n",
    "load_dotenv()\n",
    "Migrator().run()"
   ]
  },
  {
   "cell_type": "code",
   "execution_count": null,
   "id": "aa7b211c-1840-47c1-8b88-2a9af0b2d805",
   "metadata": {},
   "outputs": [],
   "source": [
    "query = \"volume1\"\n",
    "models = Model.find(Model.filename % query).all()"
   ]
  },
  {
   "cell_type": "code",
   "execution_count": null,
   "id": "11df0a8b",
   "metadata": {},
   "outputs": [],
   "source": [
    "triton_client = grpcclient.InferenceServerClient(url=TRITON_SERVER_URL, verbose=False)\n",
    "\n",
    "model_metadata = triton_client.get_model_metadata(\n",
    "    model_name=FPENET_MODEL_NAME, model_version=MODEL_VERSION\n",
    ")\n",
    "\n",
    "model_config = triton_client.get_model_config(\n",
    "    model_name=FPENET_MODEL_NAME, model_version=MODEL_VERSION\n",
    ").config\n",
    "\n",
    "input_names = [i.name for i in model_config.input]\n",
    "output_names = [i.name for i in model_config.output]"
   ]
  },
  {
   "cell_type": "code",
   "execution_count": null,
   "id": "d1d987a0-477e-4958-88e3-03dc69ffeec5",
   "metadata": {},
   "outputs": [],
   "source": [
    "def render_fpenet_image(clip, points):\n",
    "    img = Image.fromarray(\n",
    "        clip.squeeze().transpose().transpose().astype(\"uint8\"), \"L\"\n",
    "    ).convert(\"RGB\")\n",
    "    left_pupils = points[68:71]\n",
    "    right_pupils = points[72:75]\n",
    "    arc_tans = []\n",
    "    for p1, p2 in zip(left_pupils, right_pupils):\n",
    "        dx = p2[0] - p1[0]\n",
    "        dy = p2[1] - p1[1]\n",
    "        arc_tans.append(math.atan2(dy, dx))\n",
    "    rotatation = (sum(arc_tans) / len(arc_tans)) * 100\n",
    "\n",
    "    return img.rotate(rotatation)"
   ]
  },
  {
   "cell_type": "code",
   "execution_count": null,
   "id": "76377fd5-4c77-4ac9-8a13-4eec1122bb40",
   "metadata": {},
   "outputs": [],
   "source": [
    "n = 0\n",
    "max_images = 8\n",
    "show_me_grid = []\n",
    "show_me_labels = []\n",
    "results = []\n",
    "for model in tqdm(models):\n",
    "    try:\n",
    "        if (model.faces) and (n <= max_images):\n",
    "            try:\n",
    "                results.append(\n",
    "                    submit_to_fpenet(\n",
    "                        model,\n",
    "                        input_names[0],\n",
    "                        output_names,\n",
    "                        request_id=model.filename,\n",
    "                        timeit=False,\n",
    "                        return_clips=True,\n",
    "                    )\n",
    "                )\n",
    "                n += 1\n",
    "            except Exception as e:\n",
    "                print(\"There was an exception: {}\".format(e))\n",
    "    except:\n",
    "        pass\n",
    "\n",
    "for responses, clips in results:\n",
    "    for response, clip in zip(responses, clips):\n",
    "        points = response.as_numpy(output_names[1]).squeeze()\n",
    "        img = render_fpenet_image(clip, points)\n",
    "        show_me_grid.append(img)\n",
    "        show_me_labels.append(response.get_response().id)\n",
    "ipyplot.plot_images(\n",
    "    images=show_me_grid,\n",
    "    img_width=160,\n",
    "    labels=show_me_labels,\n",
    "    show_url=False,\n",
    "    max_images=max_images,\n",
    ")"
   ]
  },
  {
   "cell_type": "code",
   "execution_count": null,
   "id": "90ab6f2a-43f9-4e9a-8494-c9e4c9ed2a19",
   "metadata": {},
   "outputs": [],
   "source": [
    "for i in results[0][0]:\n",
    "    print(i.as_numpy(output_names[1]).squeeze().shape)"
   ]
  },
  {
   "cell_type": "code",
   "execution_count": null,
   "id": "f0463a70-177c-4707-b8a8-8871540939fc",
   "metadata": {},
   "outputs": [],
   "source": [
    "pbar = tqdm(\n",
    "    total=len(models),\n",
    "    desc=\"Submitting photos to {} at {}\".format(FPENET_MODEL_NAME, TRITON_SERVER_URL),\n",
    ")\n",
    "\n",
    "results = []\n",
    "\n",
    "with ThreadPoolExecutor() as executor:\n",
    "    for chunk in chunked(models, THREAD_CHUNKS):\n",
    "        futures = []\n",
    "        for model in chunk:\n",
    "            pbar.update()\n",
    "            if model.faces:\n",
    "                futures.append(\n",
    "                    executor.submit(\n",
    "                        submit_to_fpenet,\n",
    "                        model,\n",
    "                        input_names[0],\n",
    "                        output_names,\n",
    "                        request_id=model.pk,\n",
    "                    )\n",
    "                )\n",
    "\n",
    "        for future in as_completed(futures):\n",
    "            try:\n",
    "                infer_results = future.result()\n",
    "                for i, infer_result in enumerate(infer_results):\n",
    "                    model = Model.get(infer_result.get_response().id)\n",
    "                    image_points = (\n",
    "                        infer_result.as_numpy(output_names[1]).squeeze().tobytes()\n",
    "                    )\n",
    "                    model.faces[i].descriptors = str(image_points)\n",
    "                    model.save()\n",
    "\n",
    "            except Exception as e:\n",
    "                print(\n",
    "                    \"There was an exception: {}\\n{}.\".format(\n",
    "                        e, infer_result.get_response().id\n",
    "                    )\n",
    "                )"
   ]
  },
  {
   "cell_type": "code",
   "execution_count": null,
   "id": "b5e578ee-f3a3-470e-b0f9-927b5cb6abba",
   "metadata": {},
   "outputs": [],
   "source": [
    "models = Model.find(Model.filename % query).all()\n",
    "\n",
    "for model in random.sample(models, len(models) - 1):\n",
    "    try:\n",
    "        if len(model.faces) > 1:\n",
    "            print(\n",
    "                \"Looks like {} has {} faces.\\n\".format(model.filename, len(model.faces))\n",
    "            )\n",
    "            break\n",
    "        else:\n",
    "            continue\n",
    "    except:\n",
    "        pass\n",
    "print(model.dict())"
   ]
  },
  {
   "cell_type": "markdown",
   "id": "77aa9451-a763-4850-acd1-af32737fa006",
   "metadata": {},
   "source": [
    "___"
   ]
  }
 ],
 "metadata": {
  "kernelspec": {
   "display_name": "Python 3 (ipykernel)",
   "language": "python",
   "name": "python3"
  },
  "language_info": {
   "codemirror_mode": {
    "name": "ipython",
    "version": 3
   },
   "file_extension": ".py",
   "mimetype": "text/x-python",
   "name": "python",
   "nbconvert_exporter": "python",
   "pygments_lexer": "ipython3",
   "version": "3.8.13"
  }
 },
 "nbformat": 4,
 "nbformat_minor": 5
}

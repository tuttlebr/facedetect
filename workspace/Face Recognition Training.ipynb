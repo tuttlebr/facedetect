{
 "cells": [
  {
   "cell_type": "code",
   "execution_count": null,
   "id": "38f8d925-7e29-45cc-9d8c-44b8633ca3fb",
   "metadata": {},
   "outputs": [],
   "source": [
    "import numpy as np\n",
    "import json\n",
    "from concurrent.futures import ThreadPoolExecutor, as_completed\n",
    "from tqdm.auto import tqdm\n",
    "import dlib\n",
    "import random\n",
    "import ipyplot\n",
    "\n",
    "from utils import *\n",
    "from bbox import *"
   ]
  },
  {
   "cell_type": "code",
   "execution_count": null,
   "id": "6db3daa1-ef83-49b7-87ef-4fbc553b8180",
   "metadata": {},
   "outputs": [],
   "source": [
    "class GetModelFaceDescriptor(object):\n",
    "    def __init__(self, face_recognition_model_v1_path):\n",
    "        self.facerec = dlib.face_recognition_model_v1(face_recognition_model_v1_path)\n",
    "\n",
    "    def crop_rotate_clip(self, model):\n",
    "        image = Image.open(model.filename).convert(\"RGB\")\n",
    "        if_portrait = model.portrait * 90\n",
    "        image = image.rotate(if_portrait, expand=1)\n",
    "        faces = []\n",
    "        for face in model.faces:\n",
    "            face_clip = (\n",
    "                image.rotate(face.rotation, expand=1)\n",
    "                .crop((face.bbox.x1, face.bbox.y1, face.bbox.x2, face.bbox.y2))\n",
    "                .resize(size=(150, 150), resample=Image.Resampling.LANCZOS)\n",
    "            )\n",
    "            faces.append(face_clip)\n",
    "        return np.stack(faces)\n",
    "\n",
    "    def get_vectors(self, model):\n",
    "        faces = self.crop_rotate_clip(model)\n",
    "        faces_vectors = np.array(self.facerec.compute_face_descriptor(faces)).tolist()\n",
    "        for i, face in enumerate(model.faces):\n",
    "            face.face_vector = faces_vectors[i]\n",
    "        return model"
   ]
  },
  {
   "cell_type": "code",
   "execution_count": null,
   "id": "a087ef22-71d1-40ac-89e5-57ea36db72da",
   "metadata": {},
   "outputs": [],
   "source": [
    "load_dotenv()\n",
    "Migrator().run()\n",
    "query = CONTAINER_IMAGE_FOLDER.split(\"/\")[1]\n",
    "models = Model.find(Model.filename % query).all()\n",
    "models = [model for model in models if model.faces]\n",
    "max_batch_size = 32"
   ]
  },
  {
   "cell_type": "code",
   "execution_count": null,
   "id": "4ed201dc-93ba-4104-9a9a-2311c8d80b06",
   "metadata": {},
   "outputs": [],
   "source": [
    "rmi = RedisModelIterator(models, max_batch_size)"
   ]
  },
  {
   "cell_type": "markdown",
   "id": "5d605683-f88d-4e7e-956f-b9986d76e9ef",
   "metadata": {},
   "source": [
    "```\n",
    "curl \"https://raw.githubusercontent.com/davisking/dlib-models/master/dlib_face_recognition_resnet_model_v1.dat.bz2\" \\\n",
    "    --compressed \\\n",
    "    --output \"dlib_face_recognition_resnet_model_v1.dat.bz2\" \\\n",
    "    && bzip2 -dk dlib_face_recognition_resnet_model_v1.dat.bz2\n",
    "```"
   ]
  },
  {
   "cell_type": "code",
   "execution_count": null,
   "id": "d92220de-abee-4d57-ad92-8ac80d152956",
   "metadata": {},
   "outputs": [],
   "source": [
    "face_recognition_model_v1_path = \"dlib_face_recognition_resnet_model_v1.dat\"\n",
    "get_model_face_descriptor = GetModelFaceDescriptor(face_recognition_model_v1_path)\n",
    "get_model_face_descriptor.get_vectors(models[0])"
   ]
  },
  {
   "cell_type": "code",
   "execution_count": null,
   "id": "d428a9d9-e19c-43bf-8dc5-0d861aac845b",
   "metadata": {},
   "outputs": [],
   "source": [
    "est_total = (len(models) // max_batch_size) + 1\n",
    "pbar = tqdm(total=est_total, desc=\"Calculating face vectors.\")\n",
    "\n",
    "face_clip_results = []\n",
    "faceclip_exceptions = []\n",
    "with ThreadPoolExecutor(max_workers=max_batch_size) as executor:\n",
    "    for model_batch in rmi:\n",
    "        futures = []\n",
    "        for model in model_batch:\n",
    "            futures.append(\n",
    "                executor.submit(get_model_face_descriptor.get_vectors, model=model)\n",
    "            )\n",
    "\n",
    "        for future in as_completed(futures):\n",
    "            try:\n",
    "                face_clip_results.append(future.result())\n",
    "            except BaseException as e:\n",
    "                faceclip_exceptions.append({e: future})\n",
    "\n",
    "        pbar.update()"
   ]
  },
  {
   "cell_type": "code",
   "execution_count": null,
   "id": "03b5c9e3-dcd7-4512-ab87-b5a2d1ae3e88",
   "metadata": {},
   "outputs": [],
   "source": [
    "for model in face_clip_results:\n",
    "    model.save()"
   ]
  },
  {
   "cell_type": "code",
   "execution_count": null,
   "id": "ced068fe-6d06-451f-8f35-8a7801f001ff",
   "metadata": {},
   "outputs": [],
   "source": [
    "face_vectors = []\n",
    "for model in models:\n",
    "    for face in model.faces:\n",
    "        if face.face_vector:\n",
    "            face_vectors.append(dlib.vector(face.face_vector))\n",
    "\n",
    "\n",
    "# face_vectors = np.stack(face_vectors)\n",
    "\n",
    "labels = dlib.chinese_whispers_clustering(face_vectors, 0.5)"
   ]
  },
  {
   "cell_type": "code",
   "execution_count": null,
   "id": "4186507b-2597-4a29-abef-7378b3491645",
   "metadata": {},
   "outputs": [],
   "source": [
    "i = 0\n",
    "for model in models:\n",
    "    for face in model.faces:\n",
    "        if face.face_vector:\n",
    "            face.label = labels[i]\n",
    "            i += 1\n",
    "    model.save()"
   ]
  },
  {
   "cell_type": "code",
   "execution_count": null,
   "id": "a32ddcce-e598-47f4-a8c2-e1e16e658e94",
   "metadata": {},
   "outputs": [],
   "source": [
    "query = CONTAINER_IMAGE_FOLDER.split(\"/\")[1]\n",
    "models = Model.find(Model.filename % query).all()\n",
    "models = [model for model in models if model.faces]\n",
    "\n",
    "random.shuffle(models)\n",
    "\n",
    "model = models[0]\n",
    "\n",
    "labels = [face.label for face in model.faces]\n",
    "crops = crop_and_rotate_clip(model, 1, 1)\n",
    "\n",
    "ipyplot.plot_images(\n",
    "    crops,\n",
    "    labels=labels,\n",
    "    show_url=False,\n",
    ")"
   ]
  },
  {
   "cell_type": "code",
   "execution_count": null,
   "id": "9193109e-2a14-4672-8aac-15f73f2431f8",
   "metadata": {},
   "outputs": [],
   "source": []
  },
  {
   "cell_type": "code",
   "execution_count": null,
   "id": "6d6ad1b4-19ce-455c-a755-5be2ed942ea6",
   "metadata": {},
   "outputs": [],
   "source": []
  }
 ],
 "metadata": {
  "kernelspec": {
   "display_name": "Python 3 (ipykernel)",
   "language": "python",
   "name": "python3"
  },
  "language_info": {
   "codemirror_mode": {
    "name": "ipython",
    "version": 3
   },
   "file_extension": ".py",
   "mimetype": "text/x-python",
   "name": "python",
   "nbconvert_exporter": "python",
   "pygments_lexer": "ipython3",
   "version": "3.8.10"
  }
 },
 "nbformat": 4,
 "nbformat_minor": 5
}

{
 "cells": [
  {
   "cell_type": "code",
   "execution_count": null,
   "id": "f2fdb22a-ac35-4aef-8c8a-2bd6415d618d",
   "metadata": {},
   "outputs": [],
   "source": [
    "import json\n",
    "from concurrent.futures import ThreadPoolExecutor, as_completed\n",
    "import numpy as np\n",
    "from tqdm.auto import tqdm\n",
    "from dotenv import load_dotenv\n",
    "import shutil\n",
    "\n",
    "from utils import *\n",
    "\n",
    "load_dotenv()"
   ]
  },
  {
   "cell_type": "code",
   "execution_count": null,
   "id": "62064f8c-97ec-4884-82d2-a0785cb9ede5",
   "metadata": {},
   "outputs": [],
   "source": [
    "filenames = index_directory(IMAGE_FOLDER)"
   ]
  },
  {
   "cell_type": "code",
   "execution_count": null,
   "id": "8eac4211-335d-4545-b0c6-fc6e9a1e50b7",
   "metadata": {},
   "outputs": [],
   "source": [
    "def tree_copy(\n",
    "    source, source_prefix=\"/data/photos\", destination_prefix=\"/data/local_photos\"\n",
    "):\n",
    "    destination = source.replace(source_prefix, destination_prefix)\n",
    "    if os.path.isfile(destination):\n",
    "        pass\n",
    "    else:\n",
    "        try:\n",
    "            shutil.copy(source, destination)\n",
    "\n",
    "        except FileNotFoundError:\n",
    "            destination_folder, _ = os.path.split(destination)\n",
    "            os.makedirs(destination_folder)\n",
    "            shutil.copy(source, destination)\n",
    "\n",
    "        except OSError:\n",
    "            pass"
   ]
  },
  {
   "cell_type": "code",
   "execution_count": null,
   "id": "485f8d36-83cd-4857-91bf-fb99a414c9be",
   "metadata": {},
   "outputs": [],
   "source": [
    "pbar = tqdm(\n",
    "    total=len(filenames),\n",
    "    desc=\"Copying photos from remote to local\",\n",
    ")\n",
    "\n",
    "futures = []\n",
    "results = []\n",
    "\n",
    "with ThreadPoolExecutor() as executor:\n",
    "    for chunk in chunked(filenames, THREAD_CHUNKS):\n",
    "        futures = []\n",
    "        for filename in chunk:\n",
    "            pbar.update()\n",
    "            futures.append(executor.submit(tree_copy, filename))\n",
    "        for future in as_completed(futures):\n",
    "            try:\n",
    "                infer_result = future.result()\n",
    "                results.append(infer_result)\n",
    "            except Exception as e:\n",
    "                print(\"There was an exception: {}.\".format(e))"
   ]
  },
  {
   "cell_type": "code",
   "execution_count": null,
   "id": "683588ec-2f30-4544-94b1-e9da5f2042c6",
   "metadata": {},
   "outputs": [],
   "source": []
  }
 ],
 "metadata": {
  "kernelspec": {
   "display_name": "Python 3 (ipykernel)",
   "language": "python",
   "name": "python3"
  },
  "language_info": {
   "codemirror_mode": {
    "name": "ipython",
    "version": 3
   },
   "file_extension": ".py",
   "mimetype": "text/x-python",
   "name": "python",
   "nbconvert_exporter": "python",
   "pygments_lexer": "ipython3",
   "version": "3.8.13"
  }
 },
 "nbformat": 4,
 "nbformat_minor": 5
}

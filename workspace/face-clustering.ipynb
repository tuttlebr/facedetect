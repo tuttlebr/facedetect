{
 "cells": [
  {
   "cell_type": "code",
   "execution_count": null,
   "id": "bee1f1ef",
   "metadata": {},
   "outputs": [],
   "source": [
    "from concurrent.futures import ThreadPoolExecutor, as_completed\n",
    "from tqdm.auto import tqdm\n",
    "import ipyplot\n",
    "\n",
    "from utils import *"
   ]
  },
  {
   "cell_type": "code",
   "execution_count": null,
   "id": "eb0952c3-eedb-472d-ad66-4bb159734bab",
   "metadata": {},
   "outputs": [],
   "source": [
    "facedetect_data = Model.find(\n",
    "    (Model.filename % \"wedding*moose\")\n",
    "    | (Model.filename % \"camera*roll\")\n",
    "    | (Model.filename % \"grandpa\")\n",
    "    | (Model.filename % \"glen*arbor\")\n",
    ").all()\n",
    "\n",
    "len(facedetect_data)"
   ]
  },
  {
   "cell_type": "code",
   "execution_count": null,
   "id": "f5b1dac3",
   "metadata": {},
   "outputs": [],
   "source": [
    "triton_client = grpcclient.InferenceServerClient(url=TRITON_SERVER_URL, verbose=False)\n",
    "\n",
    "model_metadata = triton_client.get_model_metadata(\n",
    "    model_name=DLIB_FACE_DESCRIPTOR_MODEL_NAME, model_version=MODEL_VERSION\n",
    ")\n",
    "\n",
    "model_config = triton_client.get_model_config(\n",
    "    model_name=DLIB_FACE_DESCRIPTOR_MODEL_NAME, model_version=MODEL_VERSION\n",
    ").config\n",
    "\n",
    "input_names = [i.name for i in model_config.input]\n",
    "output_names = [i.name for i in model_config.output]"
   ]
  },
  {
   "cell_type": "code",
   "execution_count": null,
   "id": "d6ef6a8b-80a6-49c1-a743-f2620b2275eb",
   "metadata": {},
   "outputs": [],
   "source": [
    "n = 0\n",
    "max_images = 8\n",
    "results = []\n",
    "\n",
    "for m in facedetect_data:\n",
    "    if m.faces[0].probability != 0:\n",
    "        if n == max_images:\n",
    "            break\n",
    "        else:\n",
    "            "
   ]
  },
  {
   "cell_type": "code",
   "execution_count": null,
   "id": "2ced5f3c-25bb-497a-b480-e6733dd6ab7d",
   "metadata": {},
   "outputs": [],
   "source": [
    "m.faces[0].probability"
   ]
  },
  {
   "cell_type": "code",
   "execution_count": null,
   "id": "f2c83545-13a7-4845-8cd0-f554263dfcad",
   "metadata": {},
   "outputs": [],
   "source": [
    "n = 0\n",
    "max_images = 8\n",
    "results = []\n",
    "for json_items in random.sample(facedetect_data, N_DEBUG):\n",
    "    if json_items[\"faces\"][0][\"probability\"] != 0:\n",
    "        if n == max_images:\n",
    "            break\n",
    "        else:\n",
    "            try:\n",
    "                result = submit_to_dlib(\n",
    "                    json_items,\n",
    "                    input_names[0],\n",
    "                    output_names,\n",
    "                    request_id=json_items[\"filename\"],\n",
    "                )\n",
    "                results.append(result)\n",
    "                n += 1\n",
    "            except Exception as e:\n",
    "                print(\"There was an exception: {}\".format(e))\n",
    "\n",
    "descriptors = []\n",
    "for result in results:\n",
    "    for descriptor in result:\n",
    "        descriptors.append(descriptor.as_numpy(\"face_descriptor\"))\n",
    "\n",
    "print(\"Example 128D descriptor vector:\\n{}\".format(descriptors[0]))"
   ]
  },
  {
   "cell_type": "code",
   "execution_count": null,
   "id": "df946090-68ac-4ee0-9d13-68b86b86959f",
   "metadata": {},
   "outputs": [],
   "source": [
    "## DEBUG\n",
    "# facedetect_data = random.sample(facedetect_data, N_DEBUG)"
   ]
  },
  {
   "cell_type": "code",
   "execution_count": null,
   "id": "b9c8287c",
   "metadata": {},
   "outputs": [],
   "source": [
    "pbar = tqdm(\n",
    "    total=len(facedetect_data),\n",
    "    desc=\"Submitting photos to {} at {}\".format(\n",
    "        DLIB_FACE_DESCRIPTOR_MODEL_NAME, TRITON_SERVER_URL\n",
    "    ),\n",
    ")\n",
    "futures = []\n",
    "descriptors = []\n",
    "\n",
    "with ThreadPoolExecutor() as executor:\n",
    "    for chunk in chunked(facedetect_data, THREAD_CHUNKS):\n",
    "        futures = []\n",
    "        for json_items in chunk:\n",
    "            pbar.update()\n",
    "            if json_items[\"faces\"][0][\"probability\"] != \"0\":\n",
    "                try:\n",
    "                    futures.append(\n",
    "                        executor.submit(\n",
    "                            submit_to_dlib,\n",
    "                            json_items,\n",
    "                            input_names[0],\n",
    "                            output_names,\n",
    "                            request_id=json_items[\"filename\"],\n",
    "                        )\n",
    "                    )\n",
    "                except Exception as e:\n",
    "                    print(\n",
    "                        \"There was an exception: {}\\n{}\".format(\n",
    "                            e, json_items[\"filename\"]\n",
    "                        )\n",
    "                    )\n",
    "\n",
    "        for future in as_completed(futures):\n",
    "            try:\n",
    "                for descriptor in results:\n",
    "                    descriptors.append(descriptor.as_numpy(\"face_descriptor\"))\n",
    "\n",
    "            except Exception as e:\n",
    "                for result in results:\n",
    "                    for descriptor in result:\n",
    "                        descriptors.append(descriptor.as_numpy(\"face_descriptor\"))"
   ]
  },
  {
   "cell_type": "code",
   "execution_count": null,
   "id": "6ee0ee43-c179-4d4d-8e67-869557207880",
   "metadata": {},
   "outputs": [],
   "source": [
    "import dlib\n",
    "\n",
    "dlib_descriptors = [dlib.vector(descriptor) for descriptor in descriptors]\n",
    "\n",
    "labels = dlib.chinese_whispers_clustering(dlib_descriptors, 0.5)\n",
    "\n",
    "idx = 0\n",
    "for json_items in facedetect_data:\n",
    "    if json_items[\"faces\"][0][\"probability\"] != 0:\n",
    "        for face in json_items[\"faces\"]:\n",
    "            face[\"person_id\"] = labels[idx]\n",
    "            idx += 1"
   ]
  },
  {
   "cell_type": "code",
   "execution_count": null,
   "id": "56f39c90-6de8-4136-ace0-17ee20d3d43f",
   "metadata": {},
   "outputs": [],
   "source": [
    "img = Image.open(\n",
    "    \"/data/photos/2004-2019-google-photos/175469_10150181882648327_506653326_8687323_1158060.jpeg\"\n",
    ")\n",
    "img"
   ]
  },
  {
   "cell_type": "code",
   "execution_count": null,
   "id": "194469e5-c905-493b-a5ce-7f4ae3ec0463",
   "metadata": {},
   "outputs": [],
   "source": [
    "# facedetect_data"
   ]
  },
  {
   "cell_type": "markdown",
   "id": "5d3be11c-3f38-43ae-8b46-fdc4a601eae0",
   "metadata": {},
   "source": [
    "___"
   ]
  }
 ],
 "metadata": {
  "kernelspec": {
   "display_name": "Python 3 (ipykernel)",
   "language": "python",
   "name": "python3"
  },
  "language_info": {
   "codemirror_mode": {
    "name": "ipython",
    "version": 3
   },
   "file_extension": ".py",
   "mimetype": "text/x-python",
   "name": "python",
   "nbconvert_exporter": "python",
   "pygments_lexer": "ipython3",
   "version": "3.8.10"
  }
 },
 "nbformat": 4,
 "nbformat_minor": 5
}

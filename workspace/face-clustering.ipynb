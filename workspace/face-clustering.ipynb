{
 "cells": [
  {
   "cell_type": "code",
   "execution_count": 1,
   "id": "bee1f1ef",
   "metadata": {},
   "outputs": [],
   "source": [
    "import random\n",
    "from concurrent.futures import ThreadPoolExecutor, as_completed\n",
    "from tqdm.auto import tqdm\n",
    "import ipyplot\n",
    "import dlib\n",
    "\n",
    "from utils import *"
   ]
  },
  {
   "cell_type": "code",
   "execution_count": 2,
   "id": "df946090-68ac-4ee0-9d13-68b86b86959f",
   "metadata": {},
   "outputs": [],
   "source": [
    "# # DEBUG\n",
    "# facedetect_data = random.sample(facedetect_data, N_DEBUG)\n",
    "# face_count = 0\n",
    "# for model in facedetect_data:\n",
    "#     if model.faces[0].probability != 0:\n",
    "#         for face in model.faces:\n",
    "#             face_count += 1\n",
    "# print(\"{:,} faces in query debug results.\".format(face_count))"
   ]
  },
  {
   "cell_type": "code",
   "execution_count": 3,
   "id": "812d7f2b-0c77-4c1c-ae7b-a6ba38f4ffb4",
   "metadata": {},
   "outputs": [
    {
     "name": "stdout",
     "output_type": "stream",
     "text": [
      "1,751 faces in query results.\n"
     ]
    }
   ],
   "source": [
    "facedetect_data = Model.find((Model.filename % \"wedding*moose\")).all()\n",
    "\n",
    "face_count = 0\n",
    "for model in facedetect_data:\n",
    "    if model.faces[0].probability != 0:\n",
    "        for face in model.faces:\n",
    "            face_count += 1\n",
    "print(\"{:,} faces in query results.\".format(face_count))"
   ]
  },
  {
   "cell_type": "code",
   "execution_count": 4,
   "id": "f5b1dac3",
   "metadata": {},
   "outputs": [],
   "source": [
    "triton_client = grpcclient.InferenceServerClient(url=TRITON_SERVER_URL, verbose=False)\n",
    "\n",
    "model_metadata = triton_client.get_model_metadata(\n",
    "    model_name=DLIB_FACE_DESCRIPTOR_MODEL_NAME, model_version=MODEL_VERSION\n",
    ")\n",
    "\n",
    "model_config = triton_client.get_model_config(\n",
    "    model_name=DLIB_FACE_DESCRIPTOR_MODEL_NAME, model_version=MODEL_VERSION\n",
    ").config\n",
    "\n",
    "input_names = [i.name for i in model_config.input]\n",
    "output_names = [i.name for i in model_config.output]"
   ]
  },
  {
   "cell_type": "code",
   "execution_count": 5,
   "id": "f2c83545-13a7-4845-8cd0-f554263dfcad",
   "metadata": {},
   "outputs": [
    {
     "name": "stdout",
     "output_type": "stream",
     "text": [
      "Example 128D descriptor vector:\n",
      "[0. 0. 0. 0. 0. 0. 0. 0. 0. 0. 0. 0. 0. 0. 0. 0. 0. 0. 0. 0. 0. 0. 0. 0.\n",
      " 0. 0. 0. 0. 0. 0. 0. 0. 0. 0. 0. 0. 0. 0. 0. 0. 0. 0. 0. 0. 0. 0. 0. 0.\n",
      " 0. 0. 0. 0. 0. 0. 0. 0. 0. 0. 0. 0. 0. 0. 0. 0. 0. 0. 0. 0. 0. 0. 0. 0.\n",
      " 0. 0. 0. 0. 0. 0. 0. 0. 0. 0. 0. 0. 0. 0. 0. 0. 0. 0. 0. 0. 0. 0. 0. 0.\n",
      " 0. 0. 0. 0. 0. 0. 0. 0. 0. 0. 0. 0. 0. 0. 0. 0. 0. 0. 0. 0. 0. 0. 0. 0.\n",
      " 0. 0. 0. 0. 0. 0. 0. 0.]\n"
     ]
    }
   ],
   "source": [
    "n = 0\n",
    "max_images = 8\n",
    "results = []\n",
    "for model in facedetect_data:\n",
    "    if model.faces[0].probability != 0:\n",
    "        if n == max_images:\n",
    "            break\n",
    "        else:\n",
    "            try:\n",
    "                json_items = model.dict()\n",
    "                result = submit_to_dlib(\n",
    "                    json_items,\n",
    "                    input_names[0],\n",
    "                    output_names,\n",
    "                    request_id=json_items[\"filename\"],\n",
    "                )\n",
    "                results.append(result)\n",
    "                n += 1\n",
    "            except Exception as e:\n",
    "                print(\"There was an exception: {}\".format(e))\n",
    "\n",
    "descriptors = []\n",
    "for result in results:\n",
    "    for descriptor in result:\n",
    "        descriptors.append(descriptor.as_numpy(\"face_descriptor\"))\n",
    "\n",
    "print(\"Example 128D descriptor vector:\\n{}\".format(descriptors[0]))"
   ]
  },
  {
   "cell_type": "code",
   "execution_count": null,
   "id": "b9c8287c",
   "metadata": {},
   "outputs": [],
   "source": [
    "pbar = tqdm(\n",
    "    total=len(facedetect_data),\n",
    "    desc=\"Submitting photos to {} at {}\".format(\n",
    "        DLIB_FACE_DESCRIPTOR_MODEL_NAME, TRITON_SERVER_URL\n",
    "    ),\n",
    ")\n",
    "\n",
    "descriptors = []\n",
    "with ThreadPoolExecutor() as executor:\n",
    "    for chunk in chunked(facedetect_data, THREAD_CHUNKS):\n",
    "        futures = []\n",
    "        for model in chunk:\n",
    "            pbar.update()\n",
    "            if model.faces[0].probability != 0:\n",
    "                json_items = model.dict()\n",
    "                futures.append(\n",
    "                    executor.submit(\n",
    "                        submit_to_dlib,\n",
    "                        json_items,\n",
    "                        input_names[0],\n",
    "                        output_names,\n",
    "                        request_id=json_items[\"filename\"],\n",
    "                    )\n",
    "                )\n",
    "        for future in as_completed(futures):\n",
    "            try:\n",
    "                infer_results = future.result()\n",
    "                for infer_result in infer_results:\n",
    "                    descriptors.append(infer_result.as_numpy(\"face_descriptor\"))\n",
    "\n",
    "            except Exception as e:\n",
    "                print(\"There was an exception: {}\".format(e))"
   ]
  },
  {
   "cell_type": "code",
   "execution_count": null,
   "id": "4d564d7b-fc2c-4ec5-b6b3-b9347eff721f",
   "metadata": {},
   "outputs": [],
   "source": [
    "idx = 0\n",
    "for model in facedetect_data:\n",
    "    if model.faces[0].probability != 0:\n",
    "        for i, face in enumerate(model.faces):\n",
    "            model.faces[i].descriptor = str(descriptors[idx].tobytes())\n",
    "            model.save()\n",
    "            idx += 1"
   ]
  },
  {
   "cell_type": "code",
   "execution_count": null,
   "id": "1f5c6bec-0292-4cb8-8e5c-88168b5cefd5",
   "metadata": {},
   "outputs": [],
   "source": [
    "dlib_descriptors = [dlib.vector(descriptor) for descriptor in descriptors]"
   ]
  },
  {
   "cell_type": "code",
   "execution_count": null,
   "id": "4c0b4f3b-a0b5-4828-8779-feaee29190d7",
   "metadata": {},
   "outputs": [],
   "source": [
    "dlib.chinese_whispers_clustering?"
   ]
  },
  {
   "cell_type": "code",
   "execution_count": null,
   "id": "31cc312f-89b3-4a1e-b069-22c27e28d3f9",
   "metadata": {},
   "outputs": [],
   "source": [
    "print(\"calculating clusters for {:,} faces.\".format(len(dlib_descriptors)))\n",
    "labels = dlib.chinese_whispers_clustering(dlib_descriptors, 0.5)\n",
    "print(\"done.\")"
   ]
  },
  {
   "cell_type": "raw",
   "id": "8f25883c-9bad-44d0-98b5-d01b822e6639",
   "metadata": {},
   "source": [
    "idx = 0\n",
    "for model in facedetect_data:\n",
    "    if model.faces[0].probability != 0:\n",
    "        for i, face in enumerate(model.faces):\n",
    "            model.faces[i].label = labels[idx]\n",
    "            model.save()\n",
    "            idx += 1\n",
    "print(idx)"
   ]
  },
  {
   "cell_type": "code",
   "execution_count": null,
   "id": "b4e1f227-1629-4326-a60d-1b73903399a4",
   "metadata": {},
   "outputs": [],
   "source": [
    "for model in facedetect_data:\n",
    "    if len(model.faces) > 1:\n",
    "        tmp = model\n",
    "tmp.dict()"
   ]
  },
  {
   "cell_type": "markdown",
   "id": "5d3be11c-3f38-43ae-8b46-fdc4a601eae0",
   "metadata": {},
   "source": [
    "___"
   ]
  }
 ],
 "metadata": {
  "kernelspec": {
   "display_name": "Python 3 (ipykernel)",
   "language": "python",
   "name": "python3"
  },
  "language_info": {
   "codemirror_mode": {
    "name": "ipython",
    "version": 3
   },
   "file_extension": ".py",
   "mimetype": "text/x-python",
   "name": "python",
   "nbconvert_exporter": "python",
   "pygments_lexer": "ipython3",
   "version": "3.8.13"
  }
 },
 "nbformat": 4,
 "nbformat_minor": 5
}

{
 "cells": [
  {
   "cell_type": "code",
   "execution_count": null,
   "id": "2b79d1e5",
   "metadata": {},
   "outputs": [],
   "source": [
    "import json\n",
    "from concurrent.futures import ThreadPoolExecutor, FIRST_COMPLETED, wait\n",
    "import numpy as np\n",
    "import tritonclient.grpc as grpcclient\n",
    "from tqdm import tqdm\n",
    "from dotenv import load_dotenv\n",
    "\n",
    "load_dotenv()"
   ]
  },
  {
   "cell_type": "code",
   "execution_count": null,
   "id": "57d96cf9",
   "metadata": {},
   "outputs": [],
   "source": []
  },
  {
   "cell_type": "code",
   "execution_count": null,
   "id": "9a98c6a5",
   "metadata": {},
   "outputs": [],
   "source": [
    "render = False\n",
    "model_name = \"facenet_ensemble\"\n",
    "\n",
    "filenames = index_directory(image_folder)\n",
    "triton_client = grpcclient.InferenceServerClient(url=url, verbose=False)\n",
    "\n",
    "model_metadata = triton_client.get_model_metadata(\n",
    "    model_name=model_name, model_version=model_version\n",
    ")\n",
    "\n",
    "model_config = triton_client.get_model_config(\n",
    "    model_name=model_name, model_version=model_version\n",
    ").config\n",
    "\n",
    "input_name, output_metadata, batch_size = parse_model_grpc(model_metadata, model_config)\n",
    "output_names = [i.name for i in output_metadata]\n",
    "max_workers = max_batch_size * model_config.instance_group[0].count"
   ]
  },
  {
   "cell_type": "code",
   "execution_count": null,
   "id": "4be3c73a",
   "metadata": {},
   "outputs": [],
   "source": [
    "## smoke test\n",
    "image_wise_bboxes = []\n",
    "while len(image_wise_bboxes) == 0:\n",
    "    rand_idx = np.random.randint(0, len(filenames))\n",
    "    filename = filenames[rand_idx]\n",
    "    infer_result = submit_to_facedetect(\n",
    "        filename, input_name, output_names, request_id=filename\n",
    "    )\n",
    "\n",
    "    image_wise_bboxes = infer_result.as_numpy(output_names[0]).reshape(-1, 4)\n",
    "\n",
    "print(image_wise_bboxes)\n",
    "print(\"{} {} {}\".format(filename, input_name, output_names))\n",
    "render_image(filename, image_wise_bboxes)"
   ]
  },
  {
   "cell_type": "code",
   "execution_count": null,
   "id": "2b484aff",
   "metadata": {},
   "outputs": [],
   "source": [
    "results = []\n",
    "errors = []\n",
    "future_to_request = []\n",
    "with ThreadPoolExecutor(max_workers=max_workers) as executor:\n",
    "    futures_done = set()\n",
    "    futures_notdone = set()\n",
    "\n",
    "    for filename in tqdm(filenames, desc=\"Image Inference\"):\n",
    "        futures_notdone.add(\n",
    "            executor.submit(\n",
    "                submit_to_facedetect, filename, input_name, output_names, filename\n",
    "            )\n",
    "        )\n",
    "        if len(futures_notdone) >= max_workers:\n",
    "            done, futures_notdone = wait(futures_notdone, return_when=FIRST_COMPLETED)\n",
    "            futures_done.update(done)\n",
    "\n",
    "future_to_request = 0\n",
    "\n",
    "for future in futures_done:\n",
    "    future_to_request += 1\n",
    "    result = {}\n",
    "    try:\n",
    "\n",
    "        infer_result = future.result()\n",
    "        this_id = infer_result.get_response().id\n",
    "        image_wise_bboxes = infer_result.as_numpy(output_names[0]).reshape(-1, 4)\n",
    "        image_probas = infer_result.as_numpy(output_names[1]).reshape(-1, 1)\n",
    "        result[\"filename\"] = this_id\n",
    "        result[\"faces\"] = [\n",
    "            {\"bbox\": {\"x1\": 0, \"y1\": 0, \"x2\": 0, \"y2\": 0}, \"probability\": 0}\n",
    "        ]\n",
    "        for bbox, proba in zip(image_wise_bboxes, image_probas):\n",
    "            result[\"faces\"] = [\n",
    "                {\n",
    "                    \"bbox\": {\n",
    "                        \"x1\": bbox[0],\n",
    "                        \"y1\": bbox[1],\n",
    "                        \"x2\": bbox[2],\n",
    "                        \"y2\": bbox[3],\n",
    "                    },\n",
    "                    \"probability\": proba[0],\n",
    "                }\n",
    "                for bbox, proba in zip(image_wise_bboxes, image_probas)\n",
    "            ]\n",
    "\n",
    "        results.append(result)\n",
    "    except Exception as exc:\n",
    "        print(exc)\n",
    "\n",
    "with open(json_data_filename, \"w\") as f:\n",
    "    json.dump(results, f, default=to_serializable_int)"
   ]
  },
  {
   "cell_type": "code",
   "execution_count": null,
   "id": "ddd521cb",
   "metadata": {},
   "outputs": [],
   "source": [
    "if render:\n",
    "    print(\"Rendering unique files in filenames...\")\n",
    "    rendered_images = []\n",
    "    img_w = 800\n",
    "    for this_id in results:\n",
    "        image_wise_bboxes = results[this_id][output_names[0]]\n",
    "        img = render_image(this_id, image_wise_bboxes)\n",
    "        wpercent = img_w / float(img.size[0])\n",
    "        hsize = int(float(img.size[1]) * float(wpercent))\n",
    "        img = img.resize((img_w, hsize), Image.ANTIALIAS)\n",
    "        img.show()"
   ]
  },
  {
   "cell_type": "markdown",
   "id": "4517eb73",
   "metadata": {},
   "source": [
    "___"
   ]
  }
 ],
 "metadata": {
  "kernelspec": {
   "display_name": "Python 3 (ipykernel)",
   "language": "python",
   "name": "python3"
  },
  "language_info": {
   "codemirror_mode": {
    "name": "ipython",
    "version": 3
   },
   "file_extension": ".py",
   "mimetype": "text/x-python",
   "name": "python",
   "nbconvert_exporter": "python",
   "pygments_lexer": "ipython3",
   "version": "3.8.13"
  },
  "vscode": {
   "interpreter": {
    "hash": "31f2aee4e71d21fbe5cf8b01ff0e069b9275f58929596ceb00d14d90e3e16cd6"
   }
  }
 },
 "nbformat": 4,
 "nbformat_minor": 5
}

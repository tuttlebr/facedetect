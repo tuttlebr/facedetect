{
 "cells": [
  {
   "cell_type": "code",
   "execution_count": null,
   "id": "7db91931",
   "metadata": {},
   "outputs": [],
   "source": [
    "import json\n",
    "from concurrent.futures import ThreadPoolExecutor, as_completed\n",
    "import numpy as np\n",
    "import tritonclient.grpc as grpcclient\n",
    "from tqdm.auto import tqdm\n",
    "from dotenv import load_dotenv\n",
    "import random\n",
    "import ipyplot\n",
    "\n",
    "from utils import *\n",
    "\n",
    "load_dotenv()"
   ]
  },
  {
   "cell_type": "code",
   "execution_count": null,
   "id": "eff5a67c",
   "metadata": {},
   "outputs": [],
   "source": [
    "triton_client = grpcclient.InferenceServerClient(url=TRITON_SERVER_URL, verbose=False)\n",
    "\n",
    "model_metadata = triton_client.get_model_metadata(\n",
    "    model_name=FACE_DETECT_MODEL_NAME, model_version=MODEL_VERSION\n",
    ")\n",
    "\n",
    "model_config = triton_client.get_model_config(\n",
    "    model_name=FACE_DETECT_MODEL_NAME, model_version=MODEL_VERSION\n",
    ").config\n",
    "\n",
    "input_names = [i.name for i in model_config.input]\n",
    "output_names = [i.name for i in model_config.output]"
   ]
  },
  {
   "cell_type": "code",
   "execution_count": null,
   "id": "464a1719",
   "metadata": {},
   "outputs": [],
   "source": [
    "filenames = index_directory(IMAGE_FOLDER)"
   ]
  },
  {
   "cell_type": "code",
   "execution_count": null,
   "id": "ee621228-daa2-4808-8ff8-3e6adec2fdc6",
   "metadata": {},
   "outputs": [],
   "source": [
    "file_size = []\n",
    "for file in tqdm(filenames):\n",
    "    file_size.append(os.path.getsize(file))\n",
    "avg_size = sum(file_size) / len(file_size) * 1e-6\n",
    "print(\"Average image filesize ~{:.3f}MB.\".format(avg_size))"
   ]
  },
  {
   "cell_type": "code",
   "execution_count": null,
   "id": "9c8ca9b0-4abe-4bb8-8200-02d179af96d2",
   "metadata": {},
   "outputs": [],
   "source": [
    "n = 0\n",
    "max_images = 8\n",
    "show_me_grid = []\n",
    "show_me_labels = []\n",
    "for filename in filenames:\n",
    "    if n <= max_images:\n",
    "        try:\n",
    "            infer_result = submit_to_facedetect(\n",
    "                filename, input_names, output_names, request_id=filename\n",
    "            )\n",
    "            if len(infer_result.as_numpy(output_names[1])) != 0:\n",
    "                image_wise_bboxes = infer_result.as_numpy(output_names[0]).reshape(\n",
    "                    -1, 4\n",
    "                )\n",
    "                img = render_image(\n",
    "                    filename, image_wise_bboxes, linewidth=10, output_size=200\n",
    "                )\n",
    "                show_me_grid.append(img)\n",
    "                show_me_labels.append(\n",
    "                    \"{} face(s) found in {}\".format(\n",
    "                        len(infer_result.as_numpy(output_names[1])), filename\n",
    "                    )\n",
    "                )\n",
    "                n += 1\n",
    "\n",
    "        except Exception as e:\n",
    "            print(\"There was an exception: {}.\".format(e))\n",
    "    else:\n",
    "        break\n",
    "\n",
    "ipyplot.plot_images(\n",
    "    show_me_grid,\n",
    "    labels=show_me_labels,\n",
    "    max_images=max_images,\n",
    "    img_width=400,\n",
    "    show_url=False,\n",
    ")"
   ]
  },
  {
   "cell_type": "code",
   "execution_count": null,
   "id": "bfde2b40-bcce-401a-a910-b1e28c613314",
   "metadata": {},
   "outputs": [],
   "source": [
    "## DEBUG?\n",
    "# facedetect_data = random.sample(facedetect_data, N_DEBUG)"
   ]
  },
  {
   "cell_type": "code",
   "execution_count": null,
   "id": "cebba2b4-3caa-4a1d-8f41-941809a11a5d",
   "metadata": {},
   "outputs": [],
   "source": [
    "pbar = tqdm(\n",
    "    total=len(filenames),\n",
    "    desc=\"Submitting photos to {} at {}\".format(\n",
    "        FACE_DETECT_MODEL_NAME, TRITON_SERVER_URL\n",
    "    ),\n",
    ")\n",
    "\n",
    "futures = []\n",
    "results = []\n",
    "\n",
    "with ThreadPoolExecutor() as executor:\n",
    "    for chunk in chunked(filenames, THREAD_CHUNKS):\n",
    "        futures = []\n",
    "        for filename in chunk:\n",
    "            pbar.update()\n",
    "            futures.append(\n",
    "                executor.submit(\n",
    "                    submit_to_facedetect, filename, input_names, output_names, filename\n",
    "                )\n",
    "            )\n",
    "\n",
    "        for future in as_completed(futures):\n",
    "            try:\n",
    "                infer_result = future.result()\n",
    "                results.append(infer_result)\n",
    "            except Exception as e:\n",
    "                print(\n",
    "                    \"There was an exception: {}\\n{}.\".format(\n",
    "                        e, infer_result.get_response().id\n",
    "                    )\n",
    "                )"
   ]
  },
  {
   "cell_type": "code",
   "execution_count": null,
   "id": "80c971c6-20e4-4baa-acbb-fbe754269647",
   "metadata": {},
   "outputs": [],
   "source": [
    "results_json_list = []\n",
    "for infer_result in tqdm(results, desc=\"Parsing Inference Results\"):\n",
    "    result = {}\n",
    "    this_id = infer_result.get_response().id\n",
    "    image_wise_bboxes = infer_result.as_numpy(output_names[0]).reshape(-1, 4)\n",
    "    image_probas = infer_result.as_numpy(output_names[1]).reshape(-1, 1)\n",
    "    result[\"filename\"] = this_id\n",
    "    result[\"faces\"] = [{\"bbox\": {\"x1\": 0, \"y1\": 0, \"x2\": 0, \"y2\": 0}, \"probability\": 0}]\n",
    "    for bbox, proba in zip(image_wise_bboxes, image_probas):\n",
    "        result[\"faces\"] = [\n",
    "            {\n",
    "                \"bbox\": {\n",
    "                    \"x1\": bbox[0],\n",
    "                    \"y1\": bbox[1],\n",
    "                    \"x2\": bbox[2],\n",
    "                    \"y2\": bbox[3],\n",
    "                },\n",
    "                \"probability\": proba[0],\n",
    "            }\n",
    "            for bbox, proba in zip(image_wise_bboxes, image_probas)\n",
    "        ]\n",
    "\n",
    "    results_json_list.append(result)\n",
    "\n",
    "with open(JSON_DATA_FILE, \"w\") as f:\n",
    "    json.dump(results_json_list, f, default=to_serializable_int)\n",
    "print(len(results_json_list))"
   ]
  },
  {
   "cell_type": "markdown",
   "id": "0bc0b2d2",
   "metadata": {},
   "source": [
    "___"
   ]
  }
 ],
 "metadata": {
  "kernelspec": {
   "display_name": "Python 3 (ipykernel)",
   "language": "python",
   "name": "python3"
  },
  "language_info": {
   "codemirror_mode": {
    "name": "ipython",
    "version": 3
   },
   "file_extension": ".py",
   "mimetype": "text/x-python",
   "name": "python",
   "nbconvert_exporter": "python",
   "pygments_lexer": "ipython3",
   "version": "3.8.10"
  },
  "vscode": {
   "interpreter": {
    "hash": "31f2aee4e71d21fbe5cf8b01ff0e069b9275f58929596ceb00d14d90e3e16cd6"
   }
  }
 },
 "nbformat": 4,
 "nbformat_minor": 5
}

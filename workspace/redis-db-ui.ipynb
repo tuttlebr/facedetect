{
 "cells": [
  {
   "cell_type": "code",
   "execution_count": 1,
   "id": "5efb6c5f-a92e-42c2-b462-a36ca08dc6cd",
   "metadata": {},
   "outputs": [],
   "source": [
    "import json\n",
    "from tqdm.auto import tqdm\n",
    "from utils import *"
   ]
  },
  {
   "cell_type": "code",
   "execution_count": 2,
   "id": "a1dabf23-59d8-4f1c-bd64-459fdeb9ba2d",
   "metadata": {},
   "outputs": [],
   "source": [
    "JSON_DATA_FILE = os.getenv(\"JSON_DATA_FILE\")\n",
    "\n",
    "with open(JSON_DATA_FILE) as f:\n",
    "    facedetect_data = json.load(f)"
   ]
  },
  {
   "cell_type": "code",
   "execution_count": 3,
   "id": "b579e28a-8452-4d29-8569-43f24cd9d374",
   "metadata": {},
   "outputs": [],
   "source": [
    "Migrator().run()"
   ]
  },
  {
   "cell_type": "code",
   "execution_count": 4,
   "id": "e5788dc7-c6b9-47bf-81ee-365ea909fceb",
   "metadata": {},
   "outputs": [
    {
     "data": {
      "application/json": {
       "ascii": false,
       "bar_format": null,
       "colour": null,
       "elapsed": 0.02758502960205078,
       "initial": 0,
       "n": 0,
       "ncols": null,
       "nrows": null,
       "postfix": null,
       "prefix": "",
       "rate": null,
       "total": 31150,
       "unit": "it",
       "unit_divisor": 1000,
       "unit_scale": false
      },
      "application/vnd.jupyter.widget-view+json": {
       "model_id": "fb6e4ff266634071a72fe51b8023a966",
       "version_major": 2,
       "version_minor": 0
      },
      "text/plain": [
       "  0%|          | 0/31150 [00:00<?, ?it/s]"
      ]
     },
     "metadata": {},
     "output_type": "display_data"
    }
   ],
   "source": [
    "for json_items in tqdm(facedetect_data):\n",
    "    result = Model.find(Model.filename % json_items[\"filename\"].replace(\"/\", \"*\")).all()\n",
    "    for r in result:\n",
    "        Model.delete(r.pk)"
   ]
  },
  {
   "cell_type": "code",
   "execution_count": 5,
   "id": "b790f216-01b6-4f08-ac5b-964753db8de0",
   "metadata": {},
   "outputs": [
    {
     "data": {
      "application/json": {
       "ascii": false,
       "bar_format": null,
       "colour": null,
       "elapsed": 0.008675813674926758,
       "initial": 0,
       "n": 0,
       "ncols": null,
       "nrows": null,
       "postfix": null,
       "prefix": "",
       "rate": null,
       "total": 31150,
       "unit": "it",
       "unit_divisor": 1000,
       "unit_scale": false
      },
      "application/vnd.jupyter.widget-view+json": {
       "model_id": "6b344a4fe0024866a69df4cf5f808e8d",
       "version_major": 2,
       "version_minor": 0
      },
      "text/plain": [
       "  0%|          | 0/31150 [00:00<?, ?it/s]"
      ]
     },
     "metadata": {},
     "output_type": "display_data"
    }
   ],
   "source": [
    "for json_items in tqdm(facedetect_data):\n",
    "    Model(filename=json_items[\"filename\"], faces=json_items[\"faces\"]).save()"
   ]
  },
  {
   "cell_type": "code",
   "execution_count": 6,
   "id": "c292ee23-5b1b-4fb6-97e2-a8a3c1b57950",
   "metadata": {},
   "outputs": [
    {
     "data": {
      "text/plain": [
       "1555"
      ]
     },
     "execution_count": 6,
     "metadata": {},
     "output_type": "execute_result"
    }
   ],
   "source": [
    "result = Model.find(Model.filename % \"wedding*moose\").all()\n",
    "len(result)"
   ]
  },
  {
   "cell_type": "code",
   "execution_count": 7,
   "id": "15c56cd3-273d-4ba9-8d76-e240d7c2c73a",
   "metadata": {},
   "outputs": [
    {
     "data": {
      "text/plain": [
       "{'pk': '01GG8G67ARY5AP0CKSM6F8G654',\n",
       " 'filename': '/data/photos/2015-wedding-moose-photos/ab_hawk_hollow_wedding_lansing-101.jpeg',\n",
       " 'faces': [{'pk': '01GG8G67ARKVWYN2P0W6ATDKKG',\n",
       "   'bbox': {'pk': '01GG8G67ARR47CC0NF0KZGTKJ6',\n",
       "    'x1': 241,\n",
       "    'y1': 1253,\n",
       "    'x2': 623,\n",
       "    'y2': 1848},\n",
       "   'probability': 7,\n",
       "   'label': None,\n",
       "   'descriptor': None},\n",
       "  {'pk': '01GG8G67ARXZPH9BT4V4P6YHVQ',\n",
       "   'bbox': {'pk': '01GG8G67ARB6S7SBH1M9QKAR9K',\n",
       "    'x1': 1376,\n",
       "    'y1': 1313,\n",
       "    'x2': 1737,\n",
       "    'y2': 1907},\n",
       "   'probability': 8,\n",
       "   'label': None,\n",
       "   'descriptor': None},\n",
       "  {'pk': '01GG8G67AR4M24FBP6CCECGQ7W',\n",
       "   'bbox': {'pk': '01GG8G67ARB4K3BQNMB9ME5XCJ',\n",
       "    'x1': 1819,\n",
       "    'y1': 1584,\n",
       "    'x2': 2280,\n",
       "    'y2': 2180},\n",
       "   'probability': 10,\n",
       "   'label': None,\n",
       "   'descriptor': None},\n",
       "  {'pk': '01GG8G67ARNNQXGYR77J5FH7YE',\n",
       "   'bbox': {'pk': '01GG8G67AR9XGGCBE50194RTH1',\n",
       "    'x1': 3553,\n",
       "    'y1': 1715,\n",
       "    'x2': 4014,\n",
       "    'y2': 2226},\n",
       "   'probability': 7,\n",
       "   'label': None,\n",
       "   'descriptor': None},\n",
       "  {'pk': '01GG8G67ASMK1F17MXF8K0FM2G',\n",
       "   'bbox': {'pk': '01GG8G67ASSB9J64Y9CAP6KDX3',\n",
       "    'x1': 4743,\n",
       "    'y1': 1334,\n",
       "    'x2': 5078,\n",
       "    'y2': 1771},\n",
       "   'probability': 5,\n",
       "   'label': None,\n",
       "   'descriptor': None}]}"
      ]
     },
     "execution_count": 7,
     "metadata": {},
     "output_type": "execute_result"
    }
   ],
   "source": [
    "result[5].dict()"
   ]
  }
 ],
 "metadata": {
  "kernelspec": {
   "display_name": "Python 3 (ipykernel)",
   "language": "python",
   "name": "python3"
  },
  "language_info": {
   "codemirror_mode": {
    "name": "ipython",
    "version": 3
   },
   "file_extension": ".py",
   "mimetype": "text/x-python",
   "name": "python",
   "nbconvert_exporter": "python",
   "pygments_lexer": "ipython3",
   "version": "3.8.13"
  }
 },
 "nbformat": 4,
 "nbformat_minor": 5
}

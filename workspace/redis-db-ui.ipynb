{
 "cells": [
  {
   "cell_type": "code",
   "execution_count": 1,
   "id": "5efb6c5f-a92e-42c2-b462-a36ca08dc6cd",
   "metadata": {},
   "outputs": [],
   "source": [
    "import json\n",
    "\n",
    "from utils import *"
   ]
  },
  {
   "cell_type": "code",
   "execution_count": 2,
   "id": "a1dabf23-59d8-4f1c-bd64-459fdeb9ba2d",
   "metadata": {},
   "outputs": [],
   "source": [
    "JSON_DATA_FILE = os.getenv(\"JSON_DATA_FILE\")\n",
    "\n",
    "with open(JSON_DATA_FILE) as f:\n",
    "    facedetect_data = json.load(f)"
   ]
  },
  {
   "cell_type": "code",
   "execution_count": 3,
   "id": "b579e28a-8452-4d29-8569-43f24cd9d374",
   "metadata": {},
   "outputs": [],
   "source": [
    "Migrator().run()"
   ]
  },
  {
   "cell_type": "code",
   "execution_count": 4,
   "id": "e5788dc7-c6b9-47bf-81ee-365ea909fceb",
   "metadata": {},
   "outputs": [],
   "source": [
    "for json_items in facedetect_data:\n",
    "    result = Model.find(Model.filename % json_items[\"filename\"].replace(\"/\", \"*\")).all()\n",
    "    for r in result:\n",
    "        Model.delete(r.pk)"
   ]
  },
  {
   "cell_type": "code",
   "execution_count": 5,
   "id": "b790f216-01b6-4f08-ac5b-964753db8de0",
   "metadata": {},
   "outputs": [],
   "source": [
    "for json_items in facedetect_data:\n",
    "    Model(filename=json_items[\"filename\"], faces=json_items[\"faces\"]).save()"
   ]
  },
  {
   "cell_type": "code",
   "execution_count": 6,
   "id": "c292ee23-5b1b-4fb6-97e2-a8a3c1b57950",
   "metadata": {},
   "outputs": [
    {
     "data": {
      "text/plain": [
       "1544"
      ]
     },
     "execution_count": 6,
     "metadata": {},
     "output_type": "execute_result"
    }
   ],
   "source": [
    "result = Model.find(Model.filename % \"wedding*moose\").all()\n",
    "len(result)"
   ]
  },
  {
   "cell_type": "code",
   "execution_count": 8,
   "id": "15c56cd3-273d-4ba9-8d76-e240d7c2c73a",
   "metadata": {},
   "outputs": [
    {
     "data": {
      "text/plain": [
       "{'pk': '01GFVF5WYBN6QGT4HHEMM51VHK',\n",
       " 'filename': '/data/photos/2015-wedding-moose-photos/ab_hawk_hollow_wedding_lansing-105.jpeg',\n",
       " 'faces': [{'pk': '01GFVF5WYBF4GV1R9WFDQYDFTZ',\n",
       "   'bbox': {'pk': '01GFVF5WYB67Q45E37VZ3THMC2',\n",
       "    'x1': 1507,\n",
       "    'y1': 971,\n",
       "    'x2': 2053,\n",
       "    'y2': 1785},\n",
       "   'probability': 15,\n",
       "   'label': None,\n",
       "   'descriptor': None},\n",
       "  {'pk': '01GFVF5WYBP18DB8B21J4RYKNG',\n",
       "   'bbox': {'pk': '01GFVF5WYBM2DDT6XVDRSZ4XNX',\n",
       "    'x1': 2731,\n",
       "    'y1': 1603,\n",
       "    'x2': 3196,\n",
       "    'y2': 2188},\n",
       "   'probability': 9,\n",
       "   'label': None,\n",
       "   'descriptor': None},\n",
       "  {'pk': '01GFVF5WYBQ5T3HZW0P5M0R0S9',\n",
       "   'bbox': {'pk': '01GFVF5WYB6ZK18DS4RXCHAX32',\n",
       "    'x1': 3872,\n",
       "    'y1': 1567,\n",
       "    'x2': 4340,\n",
       "    'y2': 2197},\n",
       "   'probability': 10,\n",
       "   'label': None,\n",
       "   'descriptor': None}]}"
      ]
     },
     "execution_count": 8,
     "metadata": {},
     "output_type": "execute_result"
    }
   ],
   "source": [
    "result[0].dict()"
   ]
  },
  {
   "cell_type": "code",
   "execution_count": null,
   "id": "6ac41a53-dc45-4e87-bf17-c82d19cad67a",
   "metadata": {},
   "outputs": [],
   "source": []
  }
 ],
 "metadata": {
  "kernelspec": {
   "display_name": "Python 3 (ipykernel)",
   "language": "python",
   "name": "python3"
  },
  "language_info": {
   "codemirror_mode": {
    "name": "ipython",
    "version": 3
   },
   "file_extension": ".py",
   "mimetype": "text/x-python",
   "name": "python",
   "nbconvert_exporter": "python",
   "pygments_lexer": "ipython3",
   "version": "3.8.13"
  }
 },
 "nbformat": 4,
 "nbformat_minor": 5
}

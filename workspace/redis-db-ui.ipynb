{
 "cells": [
  {
   "cell_type": "code",
   "execution_count": null,
   "id": "5efb6c5f-a92e-42c2-b462-a36ca08dc6cd",
   "metadata": {},
   "outputs": [],
   "source": [
    "import json\n",
    "\n",
    "from utils import *"
   ]
  },
  {
   "cell_type": "code",
   "execution_count": null,
   "id": "a1dabf23-59d8-4f1c-bd64-459fdeb9ba2d",
   "metadata": {},
   "outputs": [],
   "source": [
    "JSON_DATA_FILE = os.getenv(\"JSON_DATA_FILE\")\n",
    "\n",
    "with open(JSON_DATA_FILE) as f:\n",
    "    facedetect_data = json.load(f)"
   ]
  },
  {
   "cell_type": "code",
   "execution_count": null,
   "id": "b579e28a-8452-4d29-8569-43f24cd9d374",
   "metadata": {},
   "outputs": [],
   "source": [
    "Migrator().run()"
   ]
  },
  {
   "cell_type": "code",
   "execution_count": null,
   "id": "f876af3c-3158-42b9-aea8-e35d27b728e7",
   "metadata": {},
   "outputs": [],
   "source": [
    "for json_items in facedetect_data:\n",
    "    result = Model.find(Model.filename % json_items[\"filename\"].replace(\"/\", \"*\")).all()\n",
    "    for r in result:\n",
    "        Model.delete(r.pk)"
   ]
  },
  {
   "cell_type": "code",
   "execution_count": null,
   "id": "b790f216-01b6-4f08-ac5b-964753db8de0",
   "metadata": {},
   "outputs": [],
   "source": [
    "for json_items in facedetect_data:\n",
    "    Model(filename=json_items[\"filename\"], faces=json_items[\"faces\"]).save()"
   ]
  },
  {
   "cell_type": "code",
   "execution_count": null,
   "id": "c292ee23-5b1b-4fb6-97e2-a8a3c1b57950",
   "metadata": {},
   "outputs": [],
   "source": [
    "result = Model.find(Model.filename % \"wedding*moose\").all()\n",
    "len(result)"
   ]
  },
  {
   "cell_type": "code",
   "execution_count": null,
   "id": "650b0983-9630-4c89-9c1a-74df310bfa42",
   "metadata": {},
   "outputs": [],
   "source": []
  }
 ],
 "metadata": {
  "kernelspec": {
   "display_name": "Python 3 (ipykernel)",
   "language": "python",
   "name": "python3"
  },
  "language_info": {
   "codemirror_mode": {
    "name": "ipython",
    "version": 3
   },
   "file_extension": ".py",
   "mimetype": "text/x-python",
   "name": "python",
   "nbconvert_exporter": "python",
   "pygments_lexer": "ipython3",
   "version": "3.8.10"
  }
 },
 "nbformat": 4,
 "nbformat_minor": 5
}

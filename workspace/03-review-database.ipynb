{
 "cells": [
  {
   "cell_type": "code",
   "execution_count": null,
   "id": "fef14136-8102-4456-bb53-65f837f92fdf",
   "metadata": {},
   "outputs": [],
   "source": [
    "import json\n",
    "\n",
    "from utils import *"
   ]
  },
  {
   "cell_type": "code",
   "execution_count": null,
   "id": "ec122f61-80be-4438-be40-441c86ccfe3a",
   "metadata": {},
   "outputs": [],
   "source": [
    "load_dotenv()\n",
    "Migrator().run()\n",
    "query = \"volume1\"\n",
    "models = Model.find(Model.filename % query).all()\n",
    "models = [model for model in models if model.faces]\n",
    "faces = 0\n",
    "for model in models:\n",
    "    faces += len(model.faces)\n",
    "print(\"{:,} files with {:,} faces detected.\".format(len(models), faces))"
   ]
  },
  {
   "cell_type": "code",
   "execution_count": null,
   "id": "d62402e9-ec0c-476a-a063-76cd9b45f534",
   "metadata": {},
   "outputs": [],
   "source": [
    "image = load_model(models[0])"
   ]
  },
  {
   "cell_type": "code",
   "execution_count": null,
   "id": "f22ae598-9dc9-4ce9-9b53-7249869e7aad",
   "metadata": {},
   "outputs": [],
   "source": [
    "image"
   ]
  },
  {
   "cell_type": "code",
   "execution_count": null,
   "id": "3b982c91-47fc-41ec-b9fd-ca2b0d574f98",
   "metadata": {},
   "outputs": [],
   "source": [
    "face_clips = crop_clip(models[0])\n",
    "for face_clip in face_clips:\n",
    "    face_clip.show()"
   ]
  },
  {
   "cell_type": "code",
   "execution_count": null,
   "id": "aabad54e-4989-4809-85eb-80008d80e0c0",
   "metadata": {},
   "outputs": [],
   "source": []
  }
 ],
 "metadata": {
  "kernelspec": {
   "display_name": "Python 3 (ipykernel)",
   "language": "python",
   "name": "python3"
  },
  "language_info": {
   "codemirror_mode": {
    "name": "ipython",
    "version": 3
   },
   "file_extension": ".py",
   "mimetype": "text/x-python",
   "name": "python",
   "nbconvert_exporter": "python",
   "pygments_lexer": "ipython3",
   "version": "3.8.10"
  }
 },
 "nbformat": 4,
 "nbformat_minor": 5
}
